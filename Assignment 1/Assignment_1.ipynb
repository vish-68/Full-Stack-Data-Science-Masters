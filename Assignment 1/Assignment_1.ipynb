{
 "cells": [
  {
   "cell_type": "markdown",
   "id": "e65861e1",
   "metadata": {},
   "source": [
    "## Vishal Upare\n",
    "\n",
    "## Email-id : vishalupare6899@gmail.com\n",
    "\n",
    "## LinkedIn : https://www.linkedin.com/in/vishal-upare-a8a092189/"
   ]
  },
  {
   "cell_type": "markdown",
   "id": "853ead0b",
   "metadata": {},
   "source": [
    "## Question 1:\n",
    "In the below elements which of them are values or an expression? eg:- values can be integer or string and expressions will be mathematical operators.\n",
    "\n",
    "1. * \n",
    "2. 'hello'\n",
    "3. -87.8\n",
    "4. - \n",
    "5. / \n",
    "6. +\n",
    "7. 6 \n",
    "\n",
    "#### Answer:\n",
    "1. Experssion\n",
    "2. Values\n",
    "3. Values\n",
    "4. Expression\n",
    "5. Experssion\n",
    "6. Expression\n",
    "7. Values"
   ]
  },
  {
   "cell_type": "markdown",
   "id": "c32c0e36",
   "metadata": {},
   "source": [
    "## Question 2:\n",
    "What is the difference between string and variable?\n",
    "\n",
    "#### Answer:\n",
    "String:\n",
    "1. String are enclosed in double quotes \"\".\n",
    "2. String can start with number or special character.\n",
    "3. String cannot hold data or String is a type of information you would store in a Variable.\n",
    "\n",
    "Variables:\n",
    "1. Variable are not enclosed in double quotes.\n",
    "2. Variable cannot start with number or sperial chareacter except \"_\".\n",
    "3. Variable holds data for any dataype or A Variable is a store of information."
   ]
  },
  {
   "cell_type": "markdown",
   "id": "f4566ceb",
   "metadata": {},
   "source": [
    "## Question 3:\n",
    "Describe three different data types\n",
    "\n",
    "#### Answer:\n",
    "1. int\n",
    "2. float\n",
    "3. str\n",
    "4. list\n",
    "5. tuple\n",
    "6. dict\n",
    "7. set"
   ]
  },
  {
   "cell_type": "markdown",
   "id": "9e058a1f",
   "metadata": {},
   "source": [
    "## Question 4:\n",
    "What is an expression made up of? What do all expressions do?\n",
    "\n",
    "#### Answer:\n",
    "1. A combination of operands and operators is called an expression. \n",
    "2. The expression in Python produces some value or result after being interpreted by the Python interpreter.\n",
    "3. An expression in Python is a combination of operators and operands."
   ]
  },
  {
   "cell_type": "markdown",
   "id": "77af64ca",
   "metadata": {},
   "source": [
    "## Question 5:\n",
    "This assignment statements, like spam = 10. What is the difference between an expression and a statement?\n",
    "\n",
    "#### Answer\n",
    "The Main Differences Between an Expression and a Statement in Programming. Expressions can be assigned or used as operands, while statements can only be declared. Statements create side effects to be useful, while expressions are values or execute to values."
   ]
  },
  {
   "cell_type": "markdown",
   "id": "700e1b15",
   "metadata": {},
   "source": [
    "## Question 6:\n",
    "After running the following code, what does the variable bacon contain?\n",
    "1. bacon = 22\n",
    "bacon + 1\n",
    "\n",
    "#### Answer\n",
    "bacon will contains 22, because are not storing value in bacon i.e. bacon +1"
   ]
  },
  {
   "cell_type": "markdown",
   "id": "7b60da69",
   "metadata": {},
   "source": [
    "## Question 7:\n",
    "What should the values of the following two terms be?\n",
    "1. 'spam' + 'spamspam'\n",
    "2. 'spam' * 3\n",
    "\n",
    "#### Answer:\n",
    "1. spamspamspam\n",
    "2. spamspamspam"
   ]
  },
  {
   "cell_type": "markdown",
   "id": "4b3bc3e4",
   "metadata": {},
   "source": [
    "## Question 8:\n",
    "Why is eggs a valid variable name while 100 is invalid?\n",
    "\n",
    "#### Answer\n",
    "eggs is valid variable and 100 is not valid varaiable because as we know that variable cannot start with numbers or special character except '_'"
   ]
  },
  {
   "cell_type": "markdown",
   "id": "9adaf7fe",
   "metadata": {},
   "source": [
    "## Question 9:\n",
    "What three functions can be used to get the integer, floating-point number, or string version of a value?\n",
    "\n",
    "#### Answer\n",
    "1. int()\n",
    "2. float()\n",
    "3. str()"
   ]
  },
  {
   "cell_type": "markdown",
   "id": "36e6bfe8",
   "metadata": {},
   "source": [
    "## Question 10:\n",
    "Why does this expression cause an error? How can you fix it?\n",
    "\n",
    "'I have eaten ' + 99 + ' burritos.'\n",
    "\n",
    "#### Answer:\n",
    "We will get error because we cannot contenate integer value we can concat only string value"
   ]
  },
  {
   "cell_type": "code",
   "execution_count": null,
   "id": "47388a34",
   "metadata": {},
   "outputs": [],
   "source": []
  }
 ],
 "metadata": {
  "kernelspec": {
   "display_name": "Python 3",
   "language": "python",
   "name": "python3"
  },
  "language_info": {
   "codemirror_mode": {
    "name": "ipython",
    "version": 3
   },
   "file_extension": ".py",
   "mimetype": "text/x-python",
   "name": "python",
   "nbconvert_exporter": "python",
   "pygments_lexer": "ipython3",
   "version": "3.8.8"
  }
 },
 "nbformat": 4,
 "nbformat_minor": 5
}

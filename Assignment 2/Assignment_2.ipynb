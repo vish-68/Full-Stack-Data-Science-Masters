{
 "cells": [
  {
   "cell_type": "markdown",
   "id": "b4a60b0e",
   "metadata": {},
   "source": [
    "## Vishal Upare\n",
    "\n",
    "## Email-id : vishalupare6899@gmail.com\n",
    "\n",
    "## LinkedIn : https://www.linkedin.com/in/vishal-upare-a8a092189/"
   ]
  },
  {
   "cell_type": "markdown",
   "id": "175a6005",
   "metadata": {},
   "source": [
    "## Q1. What are the two values of the Boolean data type? How do you write them?\n",
    "\n",
    "#### Answer:\n",
    "True and False is the two types of boolean data types. Aslo, 'T' and 'F'should be capital beacause it is case sensitive"
   ]
  },
  {
   "cell_type": "code",
   "execution_count": 1,
   "id": "909d8d28",
   "metadata": {},
   "outputs": [
    {
     "name": "stdout",
     "output_type": "stream",
     "text": [
      "True\n",
      "False\n"
     ]
    }
   ],
   "source": [
    "a = True; b = False\n",
    "print(a)\n",
    "print(b)"
   ]
  },
  {
   "cell_type": "markdown",
   "id": "86d81351",
   "metadata": {},
   "source": [
    "## Q2. What are the three different types of Boolean operators?\n",
    "\n",
    "#### Answer: \n",
    "AND, OR and NOT is three types of operators"
   ]
  },
  {
   "cell_type": "markdown",
   "id": "4faa5a02",
   "metadata": {},
   "source": [
    "## Q3. Make a list of each Boolean operator's truth tables (i.e. every possible combination of Boolean values for the operator and what it evaluate ).\n",
    "\n",
    "## Answer:"
   ]
  },
  {
   "cell_type": "code",
   "execution_count": 2,
   "id": "89beaa2d",
   "metadata": {},
   "outputs": [
    {
     "name": "stdout",
     "output_type": "stream",
     "text": [
      "True and True is True\n",
      "True and False is False\n",
      "False and True is False\n",
      "False and False is False\n",
      "True or True is True\n",
      "True or False is True\n",
      "False or True is True\n",
      "False or False is False\n",
      "not  True is False\n",
      "not  True is True\n"
     ]
    }
   ],
   "source": [
    "print(\"True and True is\", True and  True)\n",
    "print(\"True and False is\", True and  False) \n",
    "print(\"False and True is\", False and  True) \n",
    "print(\"False and False is\", False and  False) \n",
    "print(\"True or True is\", True or  True) \n",
    "print(\"True or False is\", True or  False) \n",
    "print(\"False or True is\", False or  True) \n",
    "print(\"False or False is\", False or  False) \n",
    "print(\"not  True is\", not True) \n",
    "print(\"not  True is\", not False) "
   ]
  },
  {
   "cell_type": "markdown",
   "id": "ee0ab189",
   "metadata": {},
   "source": [
    "## Q4. What are the values of the following expressions?\n",
    "\n",
    "1. (5 > 4) and (3 == 5)\n",
    "2. not (5 > 4)\n",
    "3. (5 > 4) or (3 == 5)\n",
    "4. not ((5 > 4) or (3 == 5))\n",
    "5. (True and True) and (True == False)\n",
    "6. (not False) or (not True)\n",
    "\n",
    "#### Answers:\n",
    "1. False\n",
    "2. False\n",
    "3. True\n",
    "4. False\n",
    "5. False\n",
    "6. True"
   ]
  },
  {
   "cell_type": "markdown",
   "id": "f8eb8b28",
   "metadata": {},
   "source": [
    "## Q5. What are the six comparison operators?\n",
    "\n",
    "#### Answer:`"
   ]
  },
  {
   "cell_type": "raw",
   "id": "50c48eab",
   "metadata": {},
   "source": [
    "1. > (greater than)\n",
    "2. < (less than)\n",
    "3. >= (greater than equal to)\n",
    "4. <= (less than equal to)\n",
    "5. = (equal to)\n",
    "6. != or <> (not equal to)"
   ]
  },
  {
   "cell_type": "markdown",
   "id": "37348849",
   "metadata": {},
   "source": [
    "## Q6. How do you tell the difference between the equal to and assignment operators?Describe a condition and when you would use one.\n",
    "\n",
    "#### Answer:"
   ]
  },
  {
   "cell_type": "raw",
   "id": "874050e1",
   "metadata": {},
   "source": [
    "1. a = 2\n",
    "2. b = 3\n",
    "3. a == b \n",
    "\n",
    "In 1st and 2nd condition we are assigning value to variable a and b using one equal to sign(=). and in 3rd condition we are checking that whether the value of a and b is same or not by using 2 equal to signs(==)"
   ]
  },
  {
   "cell_type": "markdown",
   "id": "b5634eac",
   "metadata": {},
   "source": [
    "## Q7. Identify the three blocks in this code:"
   ]
  },
  {
   "cell_type": "raw",
   "id": "b893c5ed",
   "metadata": {},
   "source": [
    "spam = 0\n",
    "if spam == 10:\n",
    "print('eggs')\n",
    "if spam > 5:\n",
    "print('bacon')\n",
    "else:\n",
    "print('ham')\n",
    "print('spam')\n",
    "print('spam')"
   ]
  },
  {
   "cell_type": "code",
   "execution_count": 3,
   "id": "1088f1dc",
   "metadata": {},
   "outputs": [
    {
     "name": "stdout",
     "output_type": "stream",
     "text": [
      "ham\n",
      "spam\n",
      "spam\n"
     ]
    }
   ],
   "source": [
    "spam = 0\n",
    "if spam == 10:\n",
    "    print('eggs')\n",
    "if spam > 5:\n",
    "    print('bacon')\n",
    "else:\n",
    "    print('ham')\n",
    "    print('spam')\n",
    "    print('spam')"
   ]
  },
  {
   "cell_type": "markdown",
   "id": "d2039ae2",
   "metadata": {},
   "source": [
    "## Q8. Write code that prints Hello if 1 is stored in spam, prints Howdy if 2 is stored in spam, and prints Greetings! if anything else is stored in spam."
   ]
  },
  {
   "cell_type": "code",
   "execution_count": 4,
   "id": "217196ab",
   "metadata": {},
   "outputs": [
    {
     "name": "stdout",
     "output_type": "stream",
     "text": [
      "Enter a number:2\n",
      "howdy\n"
     ]
    }
   ],
   "source": [
    "spam = int(input(\"Enter a number:\"))\n",
    "if spam == 1:\n",
    "    print('Hello')\n",
    "elif spam ==  2:\n",
    "    print('howdy')\n",
    "else:\n",
    "    print('Greetings!')"
   ]
  },
  {
   "cell_type": "markdown",
   "id": "5c3ccafb",
   "metadata": {},
   "source": [
    "## Q9.If your programme is stuck in an endless loop, what keys you’ll press\n",
    "\n",
    "#### Answer:\n",
    "Ctrl + C"
   ]
  },
  {
   "cell_type": "markdown",
   "id": "42fefc16",
   "metadata": {},
   "source": [
    "## Q10. How can you tell the difference between break and continue?\n",
    "\n",
    "#### Answer: \n",
    "In break statement it will break the iteration of the loop if condition is true and in continue statement if condition is true it will start execution "
   ]
  },
  {
   "cell_type": "code",
   "execution_count": 5,
   "id": "656aec02",
   "metadata": {
    "scrolled": true
   },
   "outputs": [
    {
     "name": "stdout",
     "output_type": "stream",
     "text": [
      "Break:--------------------------------------------------------------\n",
      "0\n",
      "1\n",
      "2\n",
      "3\n",
      "4\n",
      "continue:--------------------------------------------------------------\n",
      "0\n",
      "1\n",
      "2\n",
      "3\n",
      "4\n",
      "6\n",
      "7\n",
      "8\n",
      "9\n",
      "10\n"
     ]
    }
   ],
   "source": [
    "print(\"Break:--------------------------------------------------------------\")\n",
    "for i in range(0,10+1):\n",
    "    if i==5:\n",
    "        break\n",
    "    print(i)\n",
    "    \n",
    "print(\"continue:--------------------------------------------------------------\")\n",
    "for i in range(0,10+1):\n",
    "    if i==5:\n",
    "        continue\n",
    "    print(i)"
   ]
  },
  {
   "cell_type": "markdown",
   "id": "c45490c7",
   "metadata": {},
   "source": [
    "## Q11. In a for loop, what is the difference between range(10), range(0, 10), & range(0, 10, 1)?\n",
    "#### Answer:\n",
    "From the below output we can conclude that they all do the same thing. The range(10) call ranges from 0 up to (but not including) 10, range(0, 10) tells the loop to start at 0, and range(0, 10, 1) tells the loop to increase the variable by 1 on each iteration."
   ]
  },
  {
   "cell_type": "code",
   "execution_count": 6,
   "id": "3b82b792",
   "metadata": {
    "scrolled": false
   },
   "outputs": [
    {
     "name": "stdout",
     "output_type": "stream",
     "text": [
      "0\n",
      "1\n",
      "2\n",
      "3\n",
      "4\n",
      "5\n",
      "6\n",
      "7\n",
      "8\n",
      "9\n",
      "-------------------------------------------------------------------------------------------------\n",
      "0\n",
      "1\n",
      "2\n",
      "3\n",
      "4\n",
      "5\n",
      "6\n",
      "7\n",
      "8\n",
      "9\n",
      "-------------------------------------------------------------------------------------------------\n",
      "0\n",
      "1\n",
      "2\n",
      "3\n",
      "4\n",
      "5\n",
      "6\n",
      "7\n",
      "8\n",
      "9\n"
     ]
    }
   ],
   "source": [
    "for i in range(10):\n",
    "    print(i)\n",
    "print(\"-------------------------------------------------------------------------------------------------\")\n",
    "for i in range(0,10):\n",
    "    print(i)\n",
    "print(\"-------------------------------------------------------------------------------------------------\")\n",
    "for i  in range(0,10,1):\n",
    "    print(i)"
   ]
  },
  {
   "cell_type": "markdown",
   "id": "8122fc68",
   "metadata": {},
   "source": [
    "## Q12. Write a short program that prints the numbers 1 to 10 using a for loop. Then write an equivalent program that prints the numbers 1 to 10 using a while loop."
   ]
  },
  {
   "cell_type": "code",
   "execution_count": 7,
   "id": "69172d89",
   "metadata": {},
   "outputs": [
    {
     "name": "stdout",
     "output_type": "stream",
     "text": [
      "For Loop\n",
      "1\n",
      "2\n",
      "3\n",
      "4\n",
      "5\n",
      "6\n",
      "7\n",
      "8\n",
      "9\n",
      "10\n",
      "While Loop\n",
      "1\n",
      "2\n",
      "3\n",
      "4\n",
      "5\n",
      "6\n",
      "7\n",
      "8\n",
      "9\n",
      "10\n"
     ]
    }
   ],
   "source": [
    "print(\"For Loop\")\n",
    "for i in range(1,11):\n",
    "    print(i)\n",
    "    \n",
    "print(\"While Loop\")\n",
    "a =1\n",
    "while a <= 10:\n",
    "    print(a)\n",
    "    a+=1"
   ]
  },
  {
   "cell_type": "markdown",
   "id": "70ffd703",
   "metadata": {},
   "source": [
    "## Q13. If you had a function named bacon() inside a module named spam, how would you call it after importing spam?\n",
    "\n",
    "#### Answer:\n",
    "This function can called bt spam.bacon()"
   ]
  },
  {
   "cell_type": "code",
   "execution_count": null,
   "id": "7e6eeab4",
   "metadata": {},
   "outputs": [],
   "source": []
  }
 ],
 "metadata": {
  "kernelspec": {
   "display_name": "Python 3 (ipykernel)",
   "language": "python",
   "name": "python3"
  },
  "language_info": {
   "codemirror_mode": {
    "name": "ipython",
    "version": 3
   },
   "file_extension": ".py",
   "mimetype": "text/x-python",
   "name": "python",
   "nbconvert_exporter": "python",
   "pygments_lexer": "ipython3",
   "version": "3.10.9"
  }
 },
 "nbformat": 4,
 "nbformat_minor": 5
}
